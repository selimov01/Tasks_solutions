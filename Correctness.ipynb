{
 "cells": [
  {
   "cell_type": "markdown",
   "id": "7b3e7bb2",
   "metadata": {},
   "source": [
    "Напишите класс GoodAndEvil (Добро и Зло) для хранения того, что разные люди считают добром или злом, и операций с ним.\n",
    "\n",
    "Экземпляр класса (gae) при инициализации принимает тип good или evil и произвольное число аргументов-признаков.\n",
    " \n",
    "Класс обеспечивает выполнение методов:\n",
    "1. gae.change() — у экземпляра можно поменять тип: good меняется на evil и наоборот, одновременно меняется регистр первой буквы признаков: прописная становится строчной и наоборот, остальные буквы не меняются;\n",
    "2. gae.expansion(lst) — к признакам добавляются в конец все элементы переданной коллекции;\n",
    "из экземпляра можно вычесть число: new_gae = gae - n, возвращается новый экземпляр класса с первыми n признаками или всеми, если их меньше, тип у нового экземпляра такой же, как у исходного; \n",
    "3. Из экземпляра можно вычесть число: new_gae = gae - n, возвращается новый экземпляр класса с первыми n признаками или всеми, если их меньше, тип у нового экземпляра такой же, как у исходного; исходный экземпляр не меняется;\n",
    "4. Экземпляр можно умножить на число: gae *= n, каждый признак с длиной, не большей n, удваивается (второй такой же экземпляр записывается сразу за первым);\n",
    "5. При вызове экземпляра класса как функции без аргументов возвращается кортеж из количества строк с прописной первой буквой и со строчной первой буквой;\n",
    "6. Экземпляры класса можно сравнивать: сначала по количеству признаков, затем по количеству признаков с прописной первой буквой, затем по типу по алфавиту;\n",
    "7. Для печати возвращается строка:\n",
    "GoodAndEvil(<тип в одинарных кавычках>, <признаки в одинарных кавычках через запятую и пробел>)"
   ]
  },
  {
   "cell_type": "code",
   "execution_count": 4,
   "id": "bc6f9e72",
   "metadata": {},
   "outputs": [],
   "source": [
    "class GoodAndEvil:\n",
    "    \n",
    "    def __init__(self, type_, *features):\n",
    "        if type_ not in (\"good\", \"evil\"):\n",
    "            raise ValueError(\"type must be 'good' or 'evil'\")\n",
    "        \n",
    "        self.type = type_\n",
    "        self.features = list(features)\n",
    "        \n",
    "\n",
    "    def change(self):\n",
    "        self.type = \"evil\" if self.type == \"good\" else \"good\"\n",
    "     \n",
    "        new_feats = []\n",
    "        for f in self.features:\n",
    "            if f:\n",
    "                \n",
    "                if f[0].islower():\n",
    "                    new_feats.append(f[0].upper() + f[1:])\n",
    "                else:\n",
    "                    new_feats.append(f[0].lower() + f[1:])\n",
    "                    \n",
    "            else:\n",
    "                new_feats.append(f)\n",
    "        self.features = new_feats\n",
    "        \n",
    "\n",
    "    def expansion(self, lst):\n",
    "        self.features.extend(lst)\n",
    "        \n",
    "\n",
    "    def __sub__(self, n):\n",
    "        return GoodAndEvil(self.type, *self.features[:n])\n",
    "    \n",
    "\n",
    "    def __imul__(self, n):\n",
    "        new_feats = []\n",
    "        \n",
    "        for f in self.features:\n",
    "            if len(f) <= n:\n",
    "                new_feats.extend([f, f])\n",
    "            else:\n",
    "                new_feats.append(f)\n",
    "        self.features = new_feats\n",
    "        \n",
    "        return self\n",
    "    \n",
    "\n",
    "    def __call__(self):\n",
    "        upper = sum(1 for f in self.features if f and f[0].isupper())\n",
    "        lower = sum(1 for f in self.features if f and f[0].islower())\n",
    "        \n",
    "        return (upper, lower)\n",
    "    \n",
    "\n",
    "    def __lt__(self, other):\n",
    "        \n",
    "        if len(self.features) != len(other.features):\n",
    "            return len(self.features) < len(other.features)\n",
    "        \n",
    "        if self()[0] != other()[0]:\n",
    "            return self()[0] < other()[0]\n",
    "        \n",
    "        return self.type < other.type\n",
    "    \n",
    "\n",
    "    def __eq__(self, other):\n",
    "        return (self.type, self.features) == (other.type, other.features)\n",
    "    \n",
    "\n",
    "    def __repr__(self):\n",
    "        feats = \", \".join(f\"'{f}'\" for f in self.features)\n",
    "        return f\"GoodAndEvil('{self.type}', {feats})\""
   ]
  },
  {
   "cell_type": "markdown",
   "id": "fda1abe6",
   "metadata": {},
   "source": [
    "Example 1"
   ]
  },
  {
   "cell_type": "code",
   "execution_count": 5,
   "id": "44232bb7",
   "metadata": {},
   "outputs": [
    {
     "name": "stdout",
     "output_type": "stream",
     "text": [
      "(3, 2)\n",
      "GoodAndEvil('evil', 'Duality', 'illness', 'humiliatioN', 'Superiority', 'Pity')\n"
     ]
    }
   ],
   "source": [
    "# Input\n",
    "args = ['duality', 'Illness', 'HumiliatioN', 'superiority', 'pity']\n",
    "gae = GoodAndEvil('good', *args)\n",
    "gae.change()\n",
    "print(gae())\n",
    "print(gae)"
   ]
  },
  {
   "cell_type": "markdown",
   "id": "5d5b525d",
   "metadata": {},
   "source": [
    "Example 2"
   ]
  },
  {
   "cell_type": "code",
   "execution_count": null,
   "id": "a5c7968f",
   "metadata": {},
   "outputs": [
    {
     "name": "stdout",
     "output_type": "stream",
     "text": [
      "False\n",
      "GoodAndEvil('evil', 'dispassionate', 'Morality', 'alien', 'Weakness')\n",
      "GoodAndEvil('good', 'Dispassionate', 'morality', 'Alien')\n"
     ]
    }
   ],
   "source": [
    "# Input\n",
    "args = ['dispassionate', 'Morality', 'alien', 'Weakness']\n",
    "gae = GoodAndEvil('evil', *args)\n",
    "gae1 = gae - 3\n",
    "gae1.change()\n",
    "print(gae < gae1)\n",
    "print(gae, gae1, sep='\\n')"
   ]
  }
 ],
 "metadata": {
  "kernelspec": {
   "display_name": "Python 3",
   "language": "python",
   "name": "python3"
  },
  "language_info": {
   "codemirror_mode": {
    "name": "ipython",
    "version": 3
   },
   "file_extension": ".py",
   "mimetype": "text/x-python",
   "name": "python",
   "nbconvert_exporter": "python",
   "pygments_lexer": "ipython3",
   "version": "3.12.4"
  }
 },
 "nbformat": 4,
 "nbformat_minor": 5
}
